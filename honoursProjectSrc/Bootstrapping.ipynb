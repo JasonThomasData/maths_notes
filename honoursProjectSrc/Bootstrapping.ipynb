{
 "cells": [
  {
   "cell_type": "markdown",
   "id": "53c3aaa7-478d-4940-8767-55d024421340",
   "metadata": {},
   "source": [
    "### Bootstrapping\n",
    "\n",
    "This is mentioned as a way of fitting $ 1/k $ in the Lloyd-Smith et al article. \n",
    "\n",
    "The idea is this: Let's say there's a dataset with $ n $ observations. You derive some point estimate, suppose that's the mean. You wish to know the confidence interval for that point estimate, since it's based on a sample.\n",
    "\n",
    "Do this process:\n",
    "\n",
    "- Draw $ n $ values from your sample, with replacement. For example, if your sample is $ \\{1,2,4,5,7,8\\} $ then, $ n = 6 $. So, the bootstrapped dataset might be $ \\{1,1,2,4,8,8\\} $.\n",
    "- For each bootstrapped dataset, enter the point estimate into a histogram of point estimates. If it's then mean, then you compute the mean for each bootstrapped dataset and enter that mean into the histogram.\n",
    "- To find the confidence interval of your point estimate, select an interval that covers some $ % $ of the histogram.\n",
    "\n",
    "To do this, you would need a way to calculate what $ k $ is. The best I can think of is the methodology set out by Daniel... which relates $ k $ to the mean and variance."
   ]
  }
 ],
 "metadata": {
  "kernelspec": {
   "display_name": "Python 3 (ipykernel)",
   "language": "python",
   "name": "python3"
  },
  "language_info": {
   "codemirror_mode": {
    "name": "ipython",
    "version": 3
   },
   "file_extension": ".py",
   "mimetype": "text/x-python",
   "name": "python",
   "nbconvert_exporter": "python",
   "pygments_lexer": "ipython3",
   "version": "3.10.12"
  }
 },
 "nbformat": 4,
 "nbformat_minor": 5
}
